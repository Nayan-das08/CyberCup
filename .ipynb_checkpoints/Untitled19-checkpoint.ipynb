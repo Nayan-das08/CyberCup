{
 "cells": [
  {
   "cell_type": "code",
   "execution_count": 57,
   "metadata": {
    "id": "jHEkYGDlrj6U"
   },
   "outputs": [],
   "source": [
    "import smtplib\n",
    "\n",
    "def send_message(contact_email, message):\n",
    "    server = smtplib.SMTP('smtp.example.com', 587)\n",
    "    server.starttls()\n",
    "    server.login(\"youremail@example.com\", \"yourpassword\")\n",
    "    # server.sendmail(\"youremail@example.com\", contact_email, message)\n",
    "    server.quit()"
   ]
  },
  {
   "cell_type": "code",
   "execution_count": 58,
   "metadata": {
    "id": "2P3mtqJ9EfJ9"
   },
   "outputs": [],
   "source": [
    "emergency_type = \"\""
   ]
  },
  {
   "cell_type": "code",
   "execution_count": 60,
   "metadata": {
    "id": "6SIweHRcrxus"
   },
   "outputs": [],
   "source": [
    "def determine_emergency(message):\n",
    "    if \"heart attack\" in message or \"chest pain\" in message:\n",
    "        return \"Medical Emergency\"\n",
    "    elif \"fire\" in message:\n",
    "        return \"Fire Emergency\"\n",
    "    elif \"flood\" in message or \"storm\" in message:\n",
    "        return \"Natural Disaster\"\n",
    "    else:\n",
    "        return \"Other Emergency\""
   ]
  },
  {
   "cell_type": "code",
   "execution_count": 61,
   "metadata": {
    "colab": {
     "base_uri": "https://localhost:8080/"
    },
    "id": "TAxYIoKmsCxp",
    "outputId": "7060f7bd-972b-428e-d2ab-135fd400a552"
   },
   "outputs": [
    {
     "name": "stdout",
     "output_type": "stream",
     "text": [
      "Looking in indexes: https://pypi.org/simple, https://us-python.pkg.dev/colab-wheels/public/simple/\n",
      "Requirement already satisfied: twilio in /usr/local/lib/python3.8/dist-packages (7.16.1)\n",
      "Requirement already satisfied: pytz in /usr/local/lib/python3.8/dist-packages (from twilio) (2022.7)\n",
      "Requirement already satisfied: PyJWT<3.0.0,>=2.0.0 in /usr/local/lib/python3.8/dist-packages (from twilio) (2.6.0)\n",
      "Requirement already satisfied: requests>=2.0.0 in /usr/local/lib/python3.8/dist-packages (from twilio) (2.25.1)\n",
      "Requirement already satisfied: chardet<5,>=3.0.2 in /usr/local/lib/python3.8/dist-packages (from requests>=2.0.0->twilio) (4.0.0)\n",
      "Requirement already satisfied: certifi>=2017.4.17 in /usr/local/lib/python3.8/dist-packages (from requests>=2.0.0->twilio) (2022.12.7)\n",
      "Requirement already satisfied: urllib3<1.27,>=1.21.1 in /usr/local/lib/python3.8/dist-packages (from requests>=2.0.0->twilio) (1.24.3)\n",
      "Requirement already satisfied: idna<3,>=2.5 in /usr/local/lib/python3.8/dist-packages (from requests>=2.0.0->twilio) (2.10)\n"
     ]
    }
   ],
   "source": [
    "!pip install twilio"
   ]
  },
  {
   "cell_type": "code",
   "execution_count": 62,
   "metadata": {
    "id": "C88zeQaCr3i6"
   },
   "outputs": [],
   "source": [
    "from twilio.rest import Client\n",
    "\n",
    "# Your Account Sid and Auth Token from twilio.com/console\n",
    "account_sid = 'AC296eb95daae50f0e4044cbbbc8c3e636'\n",
    "auth_token = '59472199bd6f6dcc01face32e156933a'\n",
    "client = Client(account_sid, auth_token)\n",
    "\n",
    "def send_alert(location, emergency_severity):\n",
    "    try:\n",
    "        message = client.messages \\\n",
    "                    .create(\n",
    "                        body=f\"Emergency of {emergency_severity} severity detected at location: \",\n",
    "                        from_='+15044145750',\n",
    "                        to='+919650941571'\n",
    "                    )\n",
    "\n",
    "        print(f\"Emergency message sent with SID: {message.sid}\")\n",
    "    except:\n",
    "        print(\"An error occurred while sending the message.\")\n"
   ]
  },
  {
   "cell_type": "code",
   "execution_count": 63,
   "metadata": {
    "id": "VDRWbp28sUdQ"
   },
   "outputs": [],
   "source": [
    "def get_emergency_contacts():\n",
    "    contact_name = input(\"Enter the name of your emergency contact: \")\n",
    "    contact_phone = input(\"Enter the phone number of your emergency contact: \")\n",
    "    # contact_email = input(\"Enter the email of your emergency contact: \")\n",
    "    # return {\"name\": contact_name, \"phone\": contact_phone, \"email\": contact_email}\n",
    "    return {\"name\": contact_name, \"phone\": contact_phone}"
   ]
  },
  {
   "cell_type": "code",
   "execution_count": 64,
   "metadata": {
    "id": "V-3zx8bGsZOp"
   },
   "outputs": [],
   "source": [
    "def gather_emergency_details():\n",
    "    emergency_details = {}\n",
    "    emergency_details[\"location\"] = input(\"Please enter your current location: \")\n",
    "    # emergency_details[\"description\"] = input(\"Please describe the emergency: \")\n",
    "    emergency_details[\"description\"] = emergency_type\n",
    "    emergency_details[\"urgency\"] = input(\"On a scale of 1 to 5, how urgent is the emergency? \")\n",
    "    return emergency_details"
   ]
  },
  {
   "cell_type": "code",
   "execution_count": 65,
   "metadata": {
    "id": "KdDlJmkMsdNB"
   },
   "outputs": [],
   "source": [
    "# import smtplib\n",
    "\n",
    "# def send_email(contact_email, message, emergency_details):\n",
    "#     server = smtplib.SMTP('smtp.example.com', 587)\n",
    "#     server.starttls()\n",
    "#     server.login(\"youremail@example.com\", \"yourpassword\")\n",
    "#     message += f\"\\n\\nEmergency Location: {emergency_details['location']}\\nEmergency Description: {emergency_details['description']}\\nUrgency: {emergency_details['urgency']}\"\n",
    "#     server.sendmail(\"youremail@example.com\", contact_email, message)\n",
    "#     server.quit()"
   ]
  },
  {
   "cell_type": "code",
   "execution_count": 66,
   "metadata": {
    "id": "VLz8LdgEsosT"
   },
   "outputs": [],
   "source": [
    "import webbrowser\n",
    "\n",
    "def call_emergency_services():\n",
    "    emergency_number = input(\"Please enter the emergency number for your location: \")\n",
    "    webbrowser.open(f'tel:{emergency_number}')"
   ]
  },
  {
   "cell_type": "code",
   "execution_count": 67,
   "metadata": {
    "id": "JVJdHZHNsjNf"
   },
   "outputs": [],
   "source": [
    "def confirm_message_sent():\n",
    "    response = input(\"The emergency message has been sent. Would you like to call emergency services now ? (y/n) \")\n",
    "    if response.lower() == \"y\":\n",
    "        call_emergency_services()\n",
    "    else:\n",
    "        print(\"Thank you for using the emergency chatbot. Stay safe.\")"
   ]
  },
  {
   "cell_type": "code",
   "execution_count": 68,
   "metadata": {
    "id": "z7M2bJZkstm9"
   },
   "outputs": [],
   "source": [
    "from twilio.rest import Client\n",
    "\n",
    "# Your Account Sid and Auth Token from twilio.com/console\n",
    "account_sid = 'AC296eb95daae50f0e4044cbbbc8c3e636'\n",
    "auth_token = '59472199bd6f6dcc01face32e156933a'\n",
    "client = Client(account_sid, auth_token)\n",
    "\n",
    "def send_alert(location, emergency_severity):\n",
    "    try:\n",
    "        message = call = client.calls.create(\n",
    "        url='http://demo.twilio.com/docs/voice.xml',\n",
    "                        from_='+15044145750',\n",
    "                        to='+919650941571'\n",
    "                    )\n",
    "        print(\"success\")\n",
    "    except:\n",
    "      print(\"fail\")"
   ]
  },
  {
   "cell_type": "code",
   "execution_count": 69,
   "metadata": {
    "id": "ee36xVuItPvz"
   },
   "outputs": [],
   "source": [
    "def emergency_process():\n",
    "    emergency_type = determine_emergency(input(\"Please describe the emergency: \"))\n",
    "    emergency_details = gather_emergency_details()\n",
    "    emergency_contacts = get_emergency_contacts()\n",
    "    message = f\"{emergency_type} emergency at {emergency_details['location']}. {emergency_details['description']}. Urgency: {emergency_details['urgency']}\"\n",
    "    send_alert(emergency_details['location'], emergency_details['urgency'])\n",
    "    # send_message(emergency_contacts[\"phone\"], message)\n",
    "    # send_email(emergency_contacts[\"email\"], message, emergency_details)\n",
    "    confirm_message_sent()"
   ]
  },
  {
   "cell_type": "code",
   "execution_count": 70,
   "metadata": {
    "id": "EqOe7PVatsNV"
   },
   "outputs": [],
   "source": [
    "def check_help():\n",
    "    help_needed = input(\"Do you need some more help? (y/n) \")\n",
    "    if help_needed.lower() == \"y\":\n",
    "        emergency_process()\n",
    "    else:\n",
    "        print(\"Thank you for using the emergency chatbot. Stay safe.\")"
   ]
  },
  {
   "cell_type": "code",
   "execution_count": 71,
   "metadata": {
    "id": "KKQwR-SitzAi"
   },
   "outputs": [],
   "source": [
    "def check_emergency_contacts():\n",
    "    contacts_configured = input(\"Have you configured your emergency contacts? (y/n) \")\n",
    "    if contacts_configured.lower() == \"n\":\n",
    "        get_emergency_contacts()"
   ]
  },
  {
   "cell_type": "code",
   "execution_count": 72,
   "metadata": {
    "id": "rThT4JIDt3oi"
   },
   "outputs": [],
   "source": [
    "def check_location_safety():\n",
    "    location_safe = input(\"Are you in a safe location? (y/n) \")\n",
    "    if location_safe.lower() == \"n\":\n",
    "        emergency_process()\n",
    "    else:\n",
    "        print(\"Thank you for using the emergency chatbot. Stay safe.\")"
   ]
  },
  {
   "cell_type": "code",
   "execution_count": 73,
   "metadata": {
    "id": "jPT3RMTlt96G"
   },
   "outputs": [],
   "source": [
    "def emergency_numbers():\n",
    "    emergency_services = {\"police\":\"111\", \"fire\":\"112\", \"ambulance\":\"113\"}\n",
    "    service_needed = input(\"Which emergency service do you need? (police, fire, ambulance) \")\n",
    "    if service_needed.lower() in emergency_services:\n",
    "        print(f\"The emergency number for {service_needed} is {emergency_services[service_needed.lower()]}\")\n",
    "    else:\n",
    "        print(\"Invalid service provided.\")"
   ]
  },
  {
   "cell_type": "code",
   "execution_count": 74,
   "metadata": {
    "id": "j9U3iIfbuCO9"
   },
   "outputs": [],
   "source": [
    "def emergency_tips():\n",
    "    # emergency_type = determine_emergency(input(\"Which emergency: \"))\n",
    "    if emergency_type == \"Medical Emergency\":\n",
    "        print(\"Stay calm and call for an ambulance immediately.\")\n",
    "    elif emergency_type == \"Fire Emergency\":\n",
    "        print(\"Stay low to the ground and evacuate the building immediately.\")\n",
    "    elif emergency_type == \"Natural Disaster\":\n",
    "        print(\"Stay informed and follow evacuation orders from authorities.\")\n",
    "    else:\n",
    "        print(\"Stay calm and call for emergency services immediately.\")"
   ]
  },
  {
   "cell_type": "code",
   "execution_count": 76,
   "metadata": {
    "colab": {
     "base_uri": "https://localhost:8080/"
    },
    "id": "l8U1hKNhuGm1",
    "outputId": "a64a9a86-74d4-4838-8f7c-3d79531a09d2"
   },
   "outputs": [
    {
     "name": "stdout",
     "output_type": "stream",
     "text": [
      "Have you configured your emergency contacts? (y/n) n\n",
      "Enter the name of your emergency contact: shivansh\n",
      "Enter the phone number of your emergency contact: 9650941571\n",
      "Are you in a safe location? (y/n) n\n",
      "Please describe the emergency: heart attack\n",
      "Please enter your current location: new delhi\n",
      "On a scale of 1 to 5, how urgent is the emergency? 4\n",
      "Enter the name of your emergency contact: shivansh\n",
      "Enter the phone number of your emergency contact: 9650941571\n",
      "success\n",
      "The emergency message has been sent. Would you like to call emergency services now ? (y/n) n\n",
      "Thank you for using the emergency chatbot. Stay safe.\n",
      "Do you need some more help? (y/n) n\n",
      "Thank you for using the emergency chatbot. Stay safe.\n",
      "Which emergency service do you need? (police, fire, ambulance) ambulance\n",
      "The emergency number for ambulance is 113\n",
      "Stay calm and call for emergency services immediately.\n"
     ]
    }
   ],
   "source": [
    "# def main():\n",
    "check_emergency_contacts()\n",
    "check_location_safety()\n",
    "check_help()\n",
    "emergency_numbers()\n",
    "emergency_tips()\n",
    "# main()"
   ]
  },
  {
   "cell_type": "code",
   "execution_count": null,
   "metadata": {
    "id": "01gjdGJ-yLG4"
   },
   "outputs": [],
   "source": [
    "''"
   ]
  }
 ],
 "metadata": {
  "colab": {
   "provenance": []
  },
  "kernelspec": {
   "display_name": "Python 3 (ipykernel)",
   "language": "python",
   "name": "python3"
  },
  "language_info": {
   "codemirror_mode": {
    "name": "ipython",
    "version": 3
   },
   "file_extension": ".py",
   "mimetype": "text/x-python",
   "name": "python",
   "nbconvert_exporter": "python",
   "pygments_lexer": "ipython3",
   "version": "3.9.7"
  }
 },
 "nbformat": 4,
 "nbformat_minor": 1
}
