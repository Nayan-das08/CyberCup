{
 "cells": [
  {
   "cell_type": "code",
   "execution_count": 61,
   "id": "a2362285",
   "metadata": {},
   "outputs": [],
   "source": [
    "#import libraries\n",
    "import numpy as np\n",
    "import pandas as pd\n",
    "import tflearn # tensorflow deep learning\n",
    "import tensorflow as tf\n",
    "import random\n",
    "import json\n",
    "import pickle\n",
    "import nltk # natural langauge tool kit for nlp"
   ]
  },
  {
   "cell_type": "code",
   "execution_count": 62,
   "id": "f2a2d74f",
   "metadata": {},
   "outputs": [],
   "source": [
    "#nltk.download('punkt')\n",
    "from nltk.stem.lancaster import LancasterStemmer\n",
    "stemmer = LancasterStemmer()"
   ]
  },
  {
   "cell_type": "code",
   "execution_count": 63,
   "id": "c852d2f4",
   "metadata": {},
   "outputs": [],
   "source": [
    "with open('data.json', 'r') as f:\n",
    "    dataset = json.load(f)"
   ]
  },
  {
   "cell_type": "code",
   "execution_count": 64,
   "id": "5e59df18",
   "metadata": {},
   "outputs": [
    {
     "data": {
      "text/html": [
       "<div>\n",
       "<style scoped>\n",
       "    .dataframe tbody tr th:only-of-type {\n",
       "        vertical-align: middle;\n",
       "    }\n",
       "\n",
       "    .dataframe tbody tr th {\n",
       "        vertical-align: top;\n",
       "    }\n",
       "\n",
       "    .dataframe thead th {\n",
       "        text-align: right;\n",
       "    }\n",
       "</style>\n",
       "<table border=\"1\" class=\"dataframe\">\n",
       "  <thead>\n",
       "    <tr style=\"text-align: right;\">\n",
       "      <th></th>\n",
       "      <th>tag</th>\n",
       "      <th>patterns</th>\n",
       "      <th>responses</th>\n",
       "    </tr>\n",
       "  </thead>\n",
       "  <tbody>\n",
       "    <tr>\n",
       "      <th>0</th>\n",
       "      <td>Fire</td>\n",
       "      <td>[I am stuck in fire, Fire Fire Fire, Flames al...</td>\n",
       "      <td>[Please consider the following measures- \\n 1....</td>\n",
       "    </tr>\n",
       "    <tr>\n",
       "      <th>1</th>\n",
       "      <td>Earthquake</td>\n",
       "      <td>[I am in an earthquake, objects are falling, g...</td>\n",
       "      <td>[Please consider the following measures- \\n 1....</td>\n",
       "    </tr>\n",
       "    <tr>\n",
       "      <th>2</th>\n",
       "      <td>Flood</td>\n",
       "      <td>[Lots of water around me, neighbourhood is flo...</td>\n",
       "      <td>[Please consider the following measures- \\n 1....</td>\n",
       "    </tr>\n",
       "  </tbody>\n",
       "</table>\n",
       "</div>"
      ],
      "text/plain": [
       "          tag                                           patterns  \\\n",
       "0        Fire  [I am stuck in fire, Fire Fire Fire, Flames al...   \n",
       "1  Earthquake  [I am in an earthquake, objects are falling, g...   \n",
       "2       Flood  [Lots of water around me, neighbourhood is flo...   \n",
       "\n",
       "                                           responses  \n",
       "0  [Please consider the following measures- \\n 1....  \n",
       "1  [Please consider the following measures- \\n 1....  \n",
       "2  [Please consider the following measures- \\n 1....  "
      ]
     },
     "execution_count": 64,
     "metadata": {},
     "output_type": "execute_result"
    }
   ],
   "source": [
    "#converting dictinary to pandas dataframe\n",
    "df = pd.DataFrame.from_dict(dataset['data'])\n",
    "df.head()"
   ]
  },
  {
   "cell_type": "code",
   "execution_count": 65,
   "id": "f42a8f6d",
   "metadata": {},
   "outputs": [
    {
     "name": "stdout",
     "output_type": "stream",
     "text": [
      "['al', 'am', 'an', 'ar', 'around', 'bed', 'build', 'burn', 'car', 'caught', 'chok', 'crack', 'dam', 'develop', 'drown', 'earthquak', 'everyth', 'fal', 'fil', 'fir', 'flam', 'flood', 'ground', 'heavy', 'high', 'hom', 'hous', 'i', 'in', 'is', 'lan', 'lot', 'me', 'mov', 'my', 'neighbo', 'object', 'of', 'outsid', 'peopl', 'rainfal', 'road', 'room', 'rupt', 'shak', 'smok', 'standstil', 'stuck', 'submerg', 'surround', 'swing', 'the', 'und', 'wat', 'with']\n"
     ]
    }
   ],
   "source": [
    "#prepare training data\n",
    "words = []\n",
    "labels = []\n",
    "docs_x = []\n",
    "docs_y = []\n",
    "\n",
    "for data in dataset[\"data\"]: # dataset is dict. 'data' is key. dataset['data'] is array of dict. data is dict\n",
    "    for pattern in data[\"patterns\"]: #pattern is array element in dict element of array of dict\n",
    "        w = nltk.word_tokenize(pattern)\n",
    "        words.extend(w)\n",
    "        docs_x.append(w)\n",
    "        docs_y.append(data[\"tag\"])\n",
    "\n",
    "    if data[\"tag\"] not in labels:\n",
    "        labels.append(data[\"tag\"])\n",
    "\n",
    "ignore_words = ['?', '.', '!']\n",
    "words = [stemmer.stem(w.lower()) for w in words if w not in ignore_words]\n",
    "words = sorted(list(set(words)))\n",
    "print(words)"
   ]
  },
  {
   "cell_type": "code",
   "execution_count": 66,
   "id": "a72fe350",
   "metadata": {},
   "outputs": [
    {
     "data": {
      "text/plain": [
       "55"
      ]
     },
     "execution_count": 66,
     "metadata": {},
     "output_type": "execute_result"
    }
   ],
   "source": [
    "len(words)"
   ]
  },
  {
   "cell_type": "code",
   "execution_count": 67,
   "id": "455f0f8e",
   "metadata": {},
   "outputs": [
    {
     "name": "stdout",
     "output_type": "stream",
     "text": [
      "['Earthquake', 'Fire', 'Flood']\n"
     ]
    }
   ],
   "source": [
    "labels = sorted(labels)\n",
    "print(labels)"
   ]
  },
  {
   "cell_type": "code",
   "execution_count": 68,
   "id": "57d3eeaa",
   "metadata": {},
   "outputs": [
    {
     "name": "stdout",
     "output_type": "stream",
     "text": [
      "[['I', 'am', 'stuck', 'in', 'fire'], ['Fire', 'Fire', 'Fire'], ['Flames', 'all', 'around', 'me'], ['Fire', 'all', 'around', 'me'], ['Fire', 'surrounds', 'me'], ['Fire', 'in', 'building'], ['i', 'am', 'caught', 'in', 'fire'], ['Burning', 'my', 'house'], ['high', 'flames', 'burning', 'my', 'car'], ['Smoke', 'is', 'choking', 'me'], ['I', 'am', 'in', 'an', 'earthquake'], ['objects', 'are', 'falling'], ['ground', 'is', 'shaking'], ['Everything', 'is', 'shaking'], ['Ground', 'is', 'moving'], ['The', 'ground', 'is', 'developing', 'cracks'], ['ground', 'is', 'rupturing'], ['Home', 'is', 'damaged'], ['My', 'bed', 'is', 'shaking'], ['The', 'buildings', 'are', 'swinging'], ['Lots', 'of', 'water', 'around', 'me'], ['neighbourhood', 'is', 'flooded'], ['roads', 'submerged', 'under', 'water'], ['house', 'is', 'submerged', 'under', 'water'], ['water', 'all', 'around', 'me'], ['The', 'lanes', 'are', 'choked', 'with', 'water'], ['People', 'are', 'drowning', 'outside'], ['heavy', 'rainfall', 'damaged', 'houses'], ['lots', 'of', 'standstill', 'water'], ['water', 'filling', 'in', 'room']]\n"
     ]
    }
   ],
   "source": [
    "print(docs_x)"
   ]
  },
  {
   "cell_type": "code",
   "execution_count": 69,
   "id": "bf80a601",
   "metadata": {},
   "outputs": [
    {
     "name": "stdout",
     "output_type": "stream",
     "text": [
      "['Fire', 'Fire', 'Fire', 'Fire', 'Fire', 'Fire', 'Fire', 'Fire', 'Fire', 'Fire', 'Earthquake', 'Earthquake', 'Earthquake', 'Earthquake', 'Earthquake', 'Earthquake', 'Earthquake', 'Earthquake', 'Earthquake', 'Earthquake', 'Flood', 'Flood', 'Flood', 'Flood', 'Flood', 'Flood', 'Flood', 'Flood', 'Flood', 'Flood']\n"
     ]
    }
   ],
   "source": [
    "print(docs_y)"
   ]
  },
  {
   "cell_type": "code",
   "execution_count": 70,
   "id": "e0a0196e",
   "metadata": {},
   "outputs": [
    {
     "name": "stdout",
     "output_type": "stream",
     "text": [
      "['everyth', 'is', 'shak']\n"
     ]
    }
   ],
   "source": [
    "wrds = [stemmer.stem(w) for w in docs_x[13]]\n",
    "print(wrds)"
   ]
  },
  {
   "cell_type": "code",
   "execution_count": 71,
   "id": "172ca0f4",
   "metadata": {},
   "outputs": [],
   "source": [
    "training = []\n",
    "output = []\n",
    "\n",
    "out_empty = [0 for _ in range(len(labels))] # intialise the a list out_empty with 0's with len = length of labels\n",
    "\n",
    "for x, doc in enumerate(docs_x): # creates tuples of docs_x's index and values such that the index of the docs_x elements are stores in x and the element values are stored in the variable doc\n",
    "    \n",
    "\tbag = []\n",
    "    \n",
    "\twrds = [stemmer.stem(w) for w in doc]\n",
    "\n",
    "\tfor w in words:\n",
    "\t\tif w in wrds:\n",
    "\t\t\tbag.append(1)\n",
    "\t\telse:\n",
    "\t\t\tbag.append(0)\n",
    "            \n",
    "\toutput_row = out_empty[:]\n",
    "\toutput_row[labels.index(docs_y[x])] = 1\n",
    "\n",
    "\ttraining.append(bag)\n",
    "\toutput.append(output_row)\n",
    "\n",
    "training = np.array(training)\n",
    "output = np.array(output)"
   ]
  },
  {
   "cell_type": "code",
   "execution_count": 72,
   "id": "b37d6538",
   "metadata": {},
   "outputs": [
    {
     "name": "stdout",
     "output_type": "stream",
     "text": [
      "[[0 1 0 ... 0 0 0]\n",
      " [0 0 0 ... 0 0 0]\n",
      " [1 0 0 ... 0 0 0]\n",
      " ...\n",
      " [0 0 0 ... 0 0 0]\n",
      " [0 0 0 ... 0 1 0]\n",
      " [0 0 0 ... 0 1 0]]\n",
      "[[0 1 0]\n",
      " [0 1 0]\n",
      " [0 1 0]\n",
      " [0 1 0]\n",
      " [0 1 0]\n",
      " [0 1 0]\n",
      " [0 1 0]\n",
      " [0 1 0]\n",
      " [0 1 0]\n",
      " [0 1 0]\n",
      " [1 0 0]\n",
      " [1 0 0]\n",
      " [1 0 0]\n",
      " [1 0 0]\n",
      " [1 0 0]\n",
      " [1 0 0]\n",
      " [1 0 0]\n",
      " [1 0 0]\n",
      " [1 0 0]\n",
      " [1 0 0]\n",
      " [0 0 1]\n",
      " [0 0 1]\n",
      " [0 0 1]\n",
      " [0 0 1]\n",
      " [0 0 1]\n",
      " [0 0 1]\n",
      " [0 0 1]\n",
      " [0 0 1]\n",
      " [0 0 1]\n",
      " [0 0 1]]\n"
     ]
    }
   ],
   "source": [
    "print(training)\n",
    "print(output)"
   ]
  },
  {
   "cell_type": "code",
   "execution_count": 73,
   "id": "d6a9f4f2",
   "metadata": {},
   "outputs": [],
   "source": [
    "# neural network model\n",
    "tf.compat.v1.reset_default_graph() # creates a fresh new empty graph by clearing the nodes and operations of any previous computation\n",
    "\n",
    "net = tflearn.input_data(shape=[None, len(training[0])]) # None specifies that the input layer can accept a variable number of samples., no of neurons in input layer= 32\n",
    "net = tflearn.fully_connected(net, 8)\n",
    "net = tflearn.fully_connected(net, 8)\n",
    "net = tflearn.fully_connected(net, len(output[0]), activation=\"softmax\") #  no of neurons = 3\n",
    "net = tflearn.regression(net)\n",
    "# net = tflearn.softmax_categorical_crossentropy(net,output)\n",
    "model = tflearn.DNN(net)"
   ]
  },
  {
   "cell_type": "code",
   "execution_count": 78,
   "id": "27206012",
   "metadata": {},
   "outputs": [
    {
     "name": "stdout",
     "output_type": "stream",
     "text": [
      "Training Step: 3999  | time: 0.008s\n",
      "| Adam | epoch: 1000 | loss: 0.00000 - acc: 1.0000 -- iter: 24/30\n",
      "Training Step: 4000  | time: 0.012s\n",
      "| Adam | epoch: 1000 | loss: 0.00000 - acc: 1.0000 -- iter: 30/30\n",
      "--\n",
      "INFO:tensorflow:C:\\Users\\manya\\PycharmProjects\\python\\hackathon\\model.tflearn is not in all_model_checkpoint_paths. Manually adding it.\n"
     ]
    }
   ],
   "source": [
    "# neural network training\n",
    "try:\n",
    "\tmodel.load(\"model.tflearn\")\n",
    "except:\n",
    "    model = tflearn.DNN(net)\n",
    "    model.fit(training, output, n_epoch=1000, batch_size=8, show_metric=True)\n",
    "    model.save(\"model.tflearn\")  "
   ]
  },
  {
   "cell_type": "code",
   "execution_count": 79,
   "id": "6d5a4667",
   "metadata": {},
   "outputs": [],
   "source": [
    "def bag_of_words(s,words):\n",
    "\tbag = [0 for _ in range(len(words))]\n",
    "\ts_words = nltk.word_tokenize(s)\n",
    "\ts_words = [stemmer.stem(word.lower()) for word in s_words]\n",
    "\n",
    "\tfor se in s_words:\n",
    "\t\tfor i, w in enumerate(words):\n",
    "\t\t\tif w == se:\n",
    "\t\t\t\tbag[i] = 1\n",
    "\n",
    "\treturn np.array(bag)"
   ]
  },
  {
   "cell_type": "code",
   "execution_count": 80,
   "id": "271d6747",
   "metadata": {},
   "outputs": [],
   "source": [
    "#chat interface\n",
    "def chat():\n",
    "    \n",
    "\tprint(\"Start Talking with the Bot (type quit to stop!)\")\n",
    "\twhile True:\n",
    "\t\tinp = input(\"You: \")\n",
    "\t\tif inp.lower() == \"quit\":\n",
    "\t\t\tbreak\n",
    "\n",
    "\t\tresults = model.predict([bag_of_words(inp,words)])[0]\n",
    "\t\tresults_index = np.argmax(results) # returns the index of the maximum element in a 1-d array\n",
    "\t\ttag = labels[results_index]\n",
    "\n",
    "\t\tif results[results_index] > 0.5:\n",
    "\t\t\tfor tg in dataset[\"data\"]:\n",
    "\t\t\t\tif tg['tag'] == tag:\n",
    "\t\t\t\t\tresponses = tg['responses']\n",
    "\t\t\tprint(random.choice(responses))\n",
    "\t\t\tprint(\"\\n\")\n",
    "\n",
    "\t\telse:\n",
    "\t\t\tprint(\"I didn't get that, please try again ! \")"
   ]
  },
  {
   "cell_type": "code",
   "execution_count": 81,
   "id": "efdcada7",
   "metadata": {},
   "outputs": [
    {
     "name": "stdout",
     "output_type": "stream",
     "text": [
      "Start Talking with the Bot (type quit to stop!)\n",
      "You: glames all around me\n",
      "Please consider the following measures- \n",
      " 1. Stay informed and stay updated about the flood warning and evacuation orders issued by the local authorities, and follow their instructions.\n",
      " 2. If you are in a flood-prone area, be prepared to evacuate immediately.\n",
      " 3. If you are at home, move to the highest point in your home.\n",
      " 4. Turn off all electricity, gas, and water supplies if instructed to do so by the authorities.\n",
      " 5. Do not try to move too much water by yourself. Wait for professional help. \n",
      "\n",
      "\n",
      "\n",
      "You: I AM DROWNING\n",
      "I didn't get that, please try again ! \n",
      "You: I am choking\n",
      "Please consider the following measures- \n",
      " 1. Stay calm and do not panic \n",
      " 2. Sound the fire alarm and shout to alert others in the house \n",
      " 3. Call the local fire department immediately by dialing 101 or the emergency number in your area. Provide them with your address and details of the fire. \n",
      " 4. Close all doors and windows to contain the fire and prevent it from spreading. \n",
      " 5. Evacuate the house immediately and gather at a safe location outside.\n",
      "\n",
      "\n",
      "\n",
      "You: I AM SUFFOCATED\n",
      "Please consider the following measures- \n",
      " 1. Stay calm and don't panic. \n",
      " 2. If you are indoors: \n",
      " Take cover under a sturdy piece of furniture or against an interior wall. \n",
      " Stay away from windows, mirrors, and other objects that can break.\n",
      " Do not use elevators. \n",
      " 3. If you are outdoors: \n",
      " Move to an open area away from buildings, power lines, and other potential hazards.\n",
      " Avoid bridges, overpasses, and other structures that can collapse.\n",
      " 4. If you are in a vehicle:\n",
      " Pull over to a safe location and stop the car.\n",
      " Stay inside the vehicle until the shaking stops.\n",
      " 5. If you are at work or school:\n",
      " Follow the evacuation plan and procedures established by the building management. \n",
      " Do not use elevators.\n",
      " Follow the instructions of emergency personnel.\n",
      "\n",
      "\n",
      "You: I AM FEELING DIZZY\n",
      "Please consider the following measures- \n",
      " 1. Stay calm and don't panic. \n",
      " 2. If you are indoors: \n",
      " Take cover under a sturdy piece of furniture or against an interior wall. \n",
      " Stay away from windows, mirrors, and other objects that can break.\n",
      " Do not use elevators. \n",
      " 3. If you are outdoors: \n",
      " Move to an open area away from buildings, power lines, and other potential hazards.\n",
      " Avoid bridges, overpasses, and other structures that can collapse.\n",
      " 4. If you are in a vehicle:\n",
      " Pull over to a safe location and stop the car.\n",
      " Stay inside the vehicle until the shaking stops.\n",
      " 5. If you are at work or school:\n",
      " Follow the evacuation plan and procedures established by the building management. \n",
      " Do not use elevators.\n",
      " Follow the instructions of emergency personnel.\n",
      "\n",
      "\n",
      "You: THE FIRE ALARM IS NOT WORKING\n",
      "Please consider the following measures- \n",
      " 1. Stay calm and do not panic \n",
      " 2. Sound the fire alarm and shout to alert others in the house \n",
      " 3. Call the local fire department immediately by dialing 101 or the emergency number in your area. Provide them with your address and details of the fire. \n",
      " 4. Close all doors and windows to contain the fire and prevent it from spreading. \n",
      " 5. Evacuate the house immediately and gather at a safe location outside.\n",
      "\n",
      "\n",
      "\n",
      "You: quit\n"
     ]
    }
   ],
   "source": [
    "#start chatting\n",
    "chat()"
   ]
  },
  {
   "cell_type": "code",
   "execution_count": null,
   "id": "d1411703",
   "metadata": {},
   "outputs": [],
   "source": [
    "    "
   ]
  }
 ],
 "metadata": {
  "kernelspec": {
   "display_name": "Python 3 (ipykernel)",
   "language": "python",
   "name": "python3"
  },
  "language_info": {
   "codemirror_mode": {
    "name": "ipython",
    "version": 3
   },
   "file_extension": ".py",
   "mimetype": "text/x-python",
   "name": "python",
   "nbconvert_exporter": "python",
   "pygments_lexer": "ipython3",
   "version": "3.9.6"
  }
 },
 "nbformat": 4,
 "nbformat_minor": 5
}
