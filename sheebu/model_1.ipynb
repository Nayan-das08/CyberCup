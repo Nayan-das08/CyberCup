{
 "cells": [
  {
   "cell_type": "code",
   "execution_count": 1,
   "metadata": {},
   "outputs": [],
   "source": [
    "import nltk\n",
    "from nltk.corpus import stopwords\n",
    "from nltk.tokenize import word_tokenize"
   ]
  },
  {
   "cell_type": "code",
   "execution_count": 2,
   "metadata": {},
   "outputs": [
    {
     "name": "stderr",
     "output_type": "stream",
     "text": [
      "[nltk_data] Downloading package averaged_perceptron_tagger to\n",
      "[nltk_data]     C:\\Users\\shivansh uppal\\AppData\\Roaming\\nltk_data...\n",
      "[nltk_data]   Package averaged_perceptron_tagger is already up-to-\n",
      "[nltk_data]       date!\n",
      "[nltk_data] Downloading package stopwords to C:\\Users\\shivansh\n",
      "[nltk_data]     uppal\\AppData\\Roaming\\nltk_data...\n",
      "[nltk_data]   Package stopwords is already up-to-date!\n"
     ]
    },
    {
     "data": {
      "text/plain": [
       "True"
      ]
     },
     "execution_count": 2,
     "metadata": {},
     "output_type": "execute_result"
    }
   ],
   "source": [
    "nltk.download('averaged_perceptron_tagger')\n",
    "nltk.download('stopwords')"
   ]
  },
  {
   "cell_type": "code",
   "execution_count": 3,
   "metadata": {},
   "outputs": [],
   "source": [
    "from nltk.stem import PorterStemmer\n",
    "from nltk.tokenize import sent_tokenize, word_tokenize"
   ]
  },
  {
   "cell_type": "code",
   "execution_count": 55,
   "metadata": {},
   "outputs": [],
   "source": [
    "def classify_emergency(sentence):\n",
    "    # tokenize the sentence\n",
    "    words = word_tokenize(sentence)\n",
    "    # remove stop words\n",
    "    words = [word for word in words if word.lower() not in stopwords.words(\"english\")]\n",
    "    # tag the words with their POS\n",
    "    pos_tags = nltk.pos_tag(words)\n",
    "    # check for emergency keywords\n",
    "    emergency_keywords = [\"emergency\", \"calamity\", \"disaster\", \"crisis\", \"accident\", \"hit\", \"beatting\",\n",
    "                          \"earthquake\", \"fire\", \"flood\", \"theft\", \"kidnapping\", \"robbery\",\"flames\",\"help\"]\n",
    "    for word, tag in pos_tags:\n",
    "        # check if the word is an emergency keyword and if its related to fire speak the emergency message\n",
    "        if word.lower() in emergency_keywords:\n",
    "            speak(\"Emergency\")\n",
    "            return \"Emergency\"\n",
    "    speak(\"Not Emergency\")\n",
    "    return \"Not Emergency\""
   ]
  },
  {
   "cell_type": "code",
   "execution_count": 56,
   "metadata": {},
   "outputs": [],
   "source": [
    "import speech_recognition as sr\n",
    "import pyttsx3\n",
    "import datetime\n",
    "\n",
    "engine = pyttsx3.init('sapi5') #sapi5 is microsoft speech api\n",
    "voices = engine.getProperty('voices') #main program\n",
    "engine.setProperty('voice',voices[0].id)\n",
    "\n",
    "def speak(audio):\n",
    "    engine.say(audio)\n",
    "    engine.runAndWait()\n",
    "\n",
    "def classify_emergency_from_speech():\n",
    "    # initialize the recognizer\n",
    "    r = sr.Recognizer()\n",
    "\n",
    "    with sr.Microphone() as source:\n",
    "        print(\"listening...\")\n",
    "        r.pause_threshold=0.5\n",
    "        r.adjust_for_ambient_noise(source,duration=1)\n",
    "        audio=r.listen(source)\n",
    "\n",
    "    try:\n",
    "        print(\"recognizing...\")\n",
    "        sentence=r.recognize_google(audio,language=\"en-IN\")\n",
    "        print(f\"user said:{sentence}\\n\")\n",
    "\n",
    "    except Exception as e:\n",
    "        print(\"say that again please...\")\n",
    "        return None\n",
    "    return classify_emergency(sentence)"
   ]
  },
  {
   "cell_type": "code",
   "execution_count": 57,
   "metadata": {},
   "outputs": [
    {
     "name": "stdout",
     "output_type": "stream",
     "text": [
      "listening...\n",
      "recognizing...\n",
      "user said:time in floods help\n",
      "\n"
     ]
    },
    {
     "data": {
      "text/plain": [
       "'Emergency'"
      ]
     },
     "execution_count": 57,
     "metadata": {},
     "output_type": "execute_result"
    }
   ],
   "source": [
    "classify_emergency_from_speech()"
   ]
  },
  {
   "cell_type": "code",
   "execution_count": 28,
   "metadata": {},
   "outputs": [],
   "source": [
    "from gtts import gTTS\n",
    "import os\n",
    "import vlc\n",
    "\n",
    "def answer_in_language(text, language):\n",
    "     tts = gTTS(text= text, lang = language)\n",
    "     tts.save(\"answer2.mp3\")\n",
    "   \n",
    "#answer_in_language(\"नमस्ते, कैसे मदद कर सकते हैं?\", \"hi\") # Hindi\n",
    "\n",
    "answer_in_language(\"ഹായ്, എനിക്ക് സഹായം ചെയ്യലുക്കാം?\", \"ml\") # Malayalam\n",
    "\n",
    "#answer_in_language(\"ಹಲೋ, ನೀವು ಯಾವುದೇ ಸಹಾಯಕರನ್ನು ಮಾಡಲು ಬಯಸುವುದೇ?\", \"kn\") # Kannada"
   ]
  },
  {
   "cell_type": "code",
   "execution_count": 58,
   "metadata": {},
   "outputs": [
    {
     "data": {
      "text/plain": [
       "0"
      ]
     },
     "execution_count": 58,
     "metadata": {},
     "output_type": "execute_result"
    }
   ],
   "source": [
    "p = vlc.MediaPlayer(\"answer.mp3\")\n",
    "p.play()"
   ]
  },
  {
   "cell_type": "code",
   "execution_count": 59,
   "metadata": {},
   "outputs": [
    {
     "data": {
      "text/plain": [
       "0"
      ]
     },
     "execution_count": 59,
     "metadata": {},
     "output_type": "execute_result"
    }
   ],
   "source": [
    "p = vlc.MediaPlayer(\"answer1.mp3\")\n",
    "p.play()"
   ]
  },
  {
   "cell_type": "code",
   "execution_count": 60,
   "metadata": {},
   "outputs": [
    {
     "data": {
      "text/plain": [
       "0"
      ]
     },
     "execution_count": 60,
     "metadata": {},
     "output_type": "execute_result"
    }
   ],
   "source": [
    "p = vlc.MediaPlayer(\"answer2.mp3\")\n",
    "p.play()"
   ]
  },
  {
   "cell_type": "code",
   "execution_count": null,
   "metadata": {},
   "outputs": [],
   "source": []
  }
 ],
 "metadata": {
  "kernelspec": {
   "display_name": "Python 3",
   "language": "python",
   "name": "python3"
  },
  "language_info": {
   "codemirror_mode": {
    "name": "ipython",
    "version": 3
   },
   "file_extension": ".py",
   "mimetype": "text/x-python",
   "name": "python",
   "nbconvert_exporter": "python",
   "pygments_lexer": "ipython3",
   "version": "3.10.4"
  },
  "orig_nbformat": 4,
  "vscode": {
   "interpreter": {
    "hash": "0c4598cb0e8224ee4992ef7f7aa2c97883472946fa3b7b41abaa0dd95d9de624"
   }
  }
 },
 "nbformat": 4,
 "nbformat_minor": 2
}
