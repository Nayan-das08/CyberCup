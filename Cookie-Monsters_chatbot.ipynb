{
 "cells": [
  {
   "cell_type": "code",
   "execution_count": 43,
   "metadata": {},
   "outputs": [],
   "source": [
    "import speech_recognition as sr\n",
    "import pyttsx3\n",
    "import datetime"
   ]
  },
  {
   "cell_type": "code",
   "execution_count": 44,
   "metadata": {
    "id": "jHEkYGDlrj6U"
   },
   "outputs": [],
   "source": [
    "import smtplib\n",
    "\n",
    "def send_message(contact_email, message):\n",
    "    server = smtplib.SMTP('smtp.example.com', 587)\n",
    "    server.starttls()\n",
    "    server.login(\"youremail@example.com\", \"yourpassword\")\n",
    "    # server.sendmail(\"youremail@example.com\", contact_email, message)\n",
    "    server.quit()"
   ]
  },
  {
   "cell_type": "code",
   "execution_count": 45,
   "metadata": {
    "id": "2P3mtqJ9EfJ9"
   },
   "outputs": [],
   "source": [
    "emergency_type = \"\""
   ]
  },
  {
   "cell_type": "code",
   "execution_count": 46,
   "metadata": {
    "id": "6SIweHRcrxus"
   },
   "outputs": [],
   "source": [
    "def determine_emergency(message):\n",
    "    if \"heart attack\" in message or \"chest pain\" in message:\n",
    "        return \"Medical Emergency\"\n",
    "    elif \"fire\" in message:\n",
    "        return \"Fire Emergency\"\n",
    "    elif \"flood\" in message or \"storm\" in message:\n",
    "        return \"Natural Disaster\"\n",
    "    else:\n",
    "        return \"Other Emergency\""
   ]
  },
  {
   "cell_type": "code",
   "execution_count": 47,
   "metadata": {
    "colab": {
     "base_uri": "https://localhost:8080/"
    },
    "id": "TAxYIoKmsCxp",
    "outputId": "7060f7bd-972b-428e-d2ab-135fd400a552"
   },
   "outputs": [],
   "source": [
    "# !pip install twilio"
   ]
  },
  {
   "cell_type": "code",
   "execution_count": 48,
   "metadata": {
    "id": "C88zeQaCr3i6"
   },
   "outputs": [],
   "source": [
    "from twilio.rest import Client\n",
    "\n",
    "# Your Account Sid and Auth Token from twilio.com/console\n",
    "account_sid = 'AC296eb95daae50f0e4044cbbbc8c3e636'\n",
    "auth_token = '59472199bd6f6dcc01face32e156933a'\n",
    "client = Client(account_sid, auth_token)\n",
    "\n",
    "def send_alert(location, emergency_severity):\n",
    "    try:\n",
    "        message = client.messages \\\n",
    "                    .create(\n",
    "                        body=f\"Emergency of {emergency_severity} severity detected at location: \",\n",
    "                        from_='+15044145750',\n",
    "                        to='+919650941571'\n",
    "                    )\n",
    "\n",
    "        print(f\"Emergency message sent with SID: {message.sid}\")\n",
    "    except:\n",
    "        print(\"An error occurred while sending the message.\")\n"
   ]
  },
  {
   "cell_type": "code",
   "execution_count": 49,
   "metadata": {
    "id": "VDRWbp28sUdQ"
   },
   "outputs": [],
   "source": [
    "def get_emergency_contacts():\n",
    "    contact_name = chat(\"Enter the name of your emergency contact: \")\n",
    "    contact_phone = chat(\"Enter the phone number of your emergency contact: \")\n",
    "    # contact_email = input(\"Enter the email of your emergency contact: \")\n",
    "    # return {\"name\": contact_name, \"phone\": contact_phone, \"email\": contact_email}\n",
    "    return {\"name\": contact_name, \"phone\": contact_phone}"
   ]
  },
  {
   "cell_type": "code",
   "execution_count": 50,
   "metadata": {
    "id": "V-3zx8bGsZOp"
   },
   "outputs": [],
   "source": [
    "def gather_emergency_details():\n",
    "    emergency_details = {}\n",
    "    emergency_details[\"location\"] = chat(\"Please enter your current location: \")\n",
    "    # emergency_details[\"description\"] = input(\"Please describe the emergency: \")\n",
    "    emergency_details[\"description\"] = emergency_type\n",
    "    emergency_details[\"urgency\"] = chat(\"On a scale of 10 to 15, how urgent is the emergency? \")\n",
    "    return emergency_details"
   ]
  },
  {
   "cell_type": "code",
   "execution_count": 51,
   "metadata": {
    "id": "VLz8LdgEsosT"
   },
   "outputs": [],
   "source": [
    "import webbrowser\n",
    "\n",
    "def call_emergency_services():\n",
    "    emergency_number = chat(\"Please enter the emergency number for your location: \")\n",
    "    webbrowser.open(f'tel:{emergency_number}')"
   ]
  },
  {
   "cell_type": "code",
   "execution_count": 52,
   "metadata": {
    "id": "JVJdHZHNsjNf"
   },
   "outputs": [],
   "source": [
    "def confirm_message_sent():\n",
    "    response = chat(\"The emergency message has been sent. Would you like to call emergency services now ? (y/n) \")\n",
    "    if response.lower() == \"yes\":\n",
    "        call_emergency_services()\n",
    "    else:\n",
    "        print(\"Thank you for using the emergency chatbot. Stay safe.\")"
   ]
  },
  {
   "cell_type": "code",
   "execution_count": 53,
   "metadata": {
    "id": "z7M2bJZkstm9"
   },
   "outputs": [],
   "source": [
    "from twilio.rest import Client\n",
    "\n",
    "# Your Account Sid and Auth Token from twilio.com/console\n",
    "account_sid = 'AC296eb95daae50f0e4044cbbbc8c3e636'\n",
    "auth_token = '59472199bd6f6dcc01face32e156933a'\n",
    "client = Client(account_sid, auth_token)\n",
    "\n",
    "def send_alert(location, emergency_severity):\n",
    "    try:\n",
    "        message = call = client.calls.create(\n",
    "        url='http://demo.twilio.com/docs/voice.xml',\n",
    "                        from_='+15044145750',\n",
    "                        to='+919650941571'\n",
    "                    )\n",
    "        print(\"success\")\n",
    "    except:\n",
    "      print(\"fail\")"
   ]
  },
  {
   "cell_type": "markdown",
   "metadata": {},
   "source": [
    "## emergency_process"
   ]
  },
  {
   "cell_type": "code",
   "execution_count": 54,
   "metadata": {
    "id": "ee36xVuItPvz"
   },
   "outputs": [],
   "source": [
    "def emergency_process():\n",
    "    emergency_type = determine_emergency(chat(\"Please describe the emergency: \"))\n",
    "    emergency_details = gather_emergency_details()\n",
    "    emergency_contacts = get_emergency_contacts()\n",
    "    message = f\"{emergency_type} emergency at {emergency_details['location']}. {emergency_details['description']}. Urgency: {emergency_details['urgency']}\"\n",
    "    send_alert(emergency_details['location'], emergency_details['urgency'])\n",
    "    # send_message(emergency_contacts[\"phone\"], message)\n",
    "    # send_email(emergency_contacts[\"email\"], message, emergency_details)\n",
    "    confirm_message_sent()"
   ]
  },
  {
   "cell_type": "markdown",
   "metadata": {},
   "source": [
    "## check_help"
   ]
  },
  {
   "cell_type": "code",
   "execution_count": 55,
   "metadata": {
    "id": "EqOe7PVatsNV"
   },
   "outputs": [],
   "source": [
    "def check_help():\n",
    "    help_needed = chat(\"Do you need some more help? (y/n) \")\n",
    "    if help_needed.lower() == \"yes\":\n",
    "        emergency_process()\n",
    "    else:\n",
    "        print(\"Thank you for using the emergency chatbot. Stay safe.\")"
   ]
  },
  {
   "cell_type": "markdown",
   "metadata": {},
   "source": [
    "## check_emergency_contact"
   ]
  },
  {
   "cell_type": "code",
   "execution_count": 56,
   "metadata": {
    "id": "KKQwR-SitzAi"
   },
   "outputs": [],
   "source": [
    "def check_emergency_contacts():\n",
    "    contacts_configured = chat(\"Have you configured your emergency contacts? (y/n) \")\n",
    "    if contacts_configured.lower() == \"no\":\n",
    "        get_emergency_contacts()"
   ]
  },
  {
   "cell_type": "markdown",
   "metadata": {},
   "source": [
    "## check_location_safety"
   ]
  },
  {
   "cell_type": "code",
   "execution_count": 57,
   "metadata": {
    "id": "rThT4JIDt3oi"
   },
   "outputs": [],
   "source": [
    "def check_location_safety():\n",
    "    location_safe = chat(\"Are you in a safe location? (y/n) \")\n",
    "    print(location_safe)\n",
    "    if location_safe.lower() == \"no\":\n",
    "        emergency_process()\n",
    "    else:\n",
    "        print(\"Thank you for using the emergency chatbot. Stay safe.\")"
   ]
  },
  {
   "cell_type": "markdown",
   "metadata": {},
   "source": [
    "## emergency_numbers"
   ]
  },
  {
   "cell_type": "code",
   "execution_count": 58,
   "metadata": {
    "id": "jPT3RMTlt96G"
   },
   "outputs": [],
   "source": [
    "def emergency_numbers():\n",
    "    emergency_services = {\"police\":\"111\", \"fire\":\"112\", \"ambulance\":\"113\"}\n",
    "    service_needed = chat(\"Which emergency service do you need? (police, fire, ambulance) \")\n",
    "    if service_needed.lower() in emergency_services:\n",
    "        print(f\"The emergency number for {service_needed} is {emergency_services[service_needed.lower()]}\")\n",
    "    else:\n",
    "        print(\"Invalid service provided.\")"
   ]
  },
  {
   "cell_type": "markdown",
   "metadata": {},
   "source": [
    "## emergency_tips"
   ]
  },
  {
   "cell_type": "code",
   "execution_count": 59,
   "metadata": {
    "id": "j9U3iIfbuCO9"
   },
   "outputs": [],
   "source": [
    "def emergency_tips():\n",
    "    # emergency_type = determine_emergency(input(\"Which emergency: \"))\n",
    "    if emergency_type == \"Medical Emergency\":\n",
    "        print(\"Stay calm and call for an ambulance immediately.\")\n",
    "    elif emergency_type == \"Fire Emergency\":\n",
    "        print(\"Stay low to the ground and evacuate the building immediately.\")\n",
    "    elif emergency_type == \"Natural Disaster\":\n",
    "        print(\"Stay informed and follow evacuation orders from authorities.\")\n",
    "    else:\n",
    "        print(\"Stay calm and call for emergency services immediately.\")"
   ]
  },
  {
   "cell_type": "code",
   "execution_count": 60,
   "metadata": {},
   "outputs": [],
   "source": [
    "import os\n",
    "import subprocess"
   ]
  },
  {
   "cell_type": "code",
   "execution_count": 61,
   "metadata": {},
   "outputs": [],
   "source": [
    "def say(inp):\n",
    "    r=sr.Recognizer()\n",
    "    with sr.Microphone() as source:\n",
    "        print(\"Listening...\")\n",
    "        r.pause_threshold = 0.5\n",
    "        audio = r.listen(source)\n",
    "\n",
    "    try:\n",
    "        print(\"Recognizing...\")\n",
    "        inp = r.recognize_google(audio, language='en-in', show_all=False)\n",
    "        print(f\"You: {inp}\\n\")\n",
    "\n",
    "    except Exception as e:\n",
    "        print(e)\n",
    "        print(\"Say that again please...\")\n",
    "        say(inp)\n",
    "        \n",
    "    return inp"
   ]
  },
  {
   "cell_type": "code",
   "execution_count": 62,
   "metadata": {
    "id": "01gjdGJ-yLG4"
   },
   "outputs": [],
   "source": [
    "def chat(prompt):\n",
    "    print(prompt)\n",
    "    \n",
    "    inp=\"\"\n",
    "    \n",
    "    inp = say(inp)\n",
    "        \n",
    "    return inp\n"
   ]
  },
  {
   "cell_type": "code",
   "execution_count": 66,
   "metadata": {},
   "outputs": [
    {
     "name": "stdout",
     "output_type": "stream",
     "text": [
      "Have you configured your emergency contacts? (y/n) \n",
      "Listening...\n"
     ]
    },
    {
     "ename": "KeyboardInterrupt",
     "evalue": "",
     "output_type": "error",
     "traceback": [
      "\u001b[1;31m---------------------------------------------------------------------------\u001b[0m",
      "\u001b[1;31mKeyboardInterrupt\u001b[0m                         Traceback (most recent call last)",
      "\u001b[1;32m~\\AppData\\Local\\Temp/ipykernel_14816/87582346.py\u001b[0m in \u001b[0;36m<module>\u001b[1;34m\u001b[0m\n\u001b[1;32m----> 1\u001b[1;33m \u001b[0mcheck_emergency_contacts\u001b[0m\u001b[1;33m(\u001b[0m\u001b[1;33m)\u001b[0m\u001b[1;33m\u001b[0m\u001b[1;33m\u001b[0m\u001b[0m\n\u001b[0m\u001b[0;32m      2\u001b[0m \u001b[0mcheck_location_safety\u001b[0m\u001b[1;33m(\u001b[0m\u001b[1;33m)\u001b[0m\u001b[1;33m\u001b[0m\u001b[1;33m\u001b[0m\u001b[0m\n\u001b[0;32m      3\u001b[0m \u001b[0mcheck_help\u001b[0m\u001b[1;33m(\u001b[0m\u001b[1;33m)\u001b[0m\u001b[1;33m\u001b[0m\u001b[1;33m\u001b[0m\u001b[0m\n\u001b[0;32m      4\u001b[0m \u001b[0memergency_numbers\u001b[0m\u001b[1;33m(\u001b[0m\u001b[1;33m)\u001b[0m\u001b[1;33m\u001b[0m\u001b[1;33m\u001b[0m\u001b[0m\n\u001b[0;32m      5\u001b[0m \u001b[0memergency_tips\u001b[0m\u001b[1;33m(\u001b[0m\u001b[1;33m)\u001b[0m\u001b[1;33m\u001b[0m\u001b[1;33m\u001b[0m\u001b[0m\n",
      "\u001b[1;32m~\\AppData\\Local\\Temp/ipykernel_14816/120113480.py\u001b[0m in \u001b[0;36mcheck_emergency_contacts\u001b[1;34m()\u001b[0m\n\u001b[0;32m      1\u001b[0m \u001b[1;32mdef\u001b[0m \u001b[0mcheck_emergency_contacts\u001b[0m\u001b[1;33m(\u001b[0m\u001b[1;33m)\u001b[0m\u001b[1;33m:\u001b[0m\u001b[1;33m\u001b[0m\u001b[1;33m\u001b[0m\u001b[0m\n\u001b[1;32m----> 2\u001b[1;33m     \u001b[0mcontacts_configured\u001b[0m \u001b[1;33m=\u001b[0m \u001b[0mchat\u001b[0m\u001b[1;33m(\u001b[0m\u001b[1;34m\"Have you configured your emergency contacts? (y/n) \"\u001b[0m\u001b[1;33m)\u001b[0m\u001b[1;33m\u001b[0m\u001b[1;33m\u001b[0m\u001b[0m\n\u001b[0m\u001b[0;32m      3\u001b[0m     \u001b[1;32mif\u001b[0m \u001b[0mcontacts_configured\u001b[0m\u001b[1;33m.\u001b[0m\u001b[0mlower\u001b[0m\u001b[1;33m(\u001b[0m\u001b[1;33m)\u001b[0m \u001b[1;33m==\u001b[0m \u001b[1;34m\"no\"\u001b[0m\u001b[1;33m:\u001b[0m\u001b[1;33m\u001b[0m\u001b[1;33m\u001b[0m\u001b[0m\n\u001b[0;32m      4\u001b[0m         \u001b[0mget_emergency_contacts\u001b[0m\u001b[1;33m(\u001b[0m\u001b[1;33m)\u001b[0m\u001b[1;33m\u001b[0m\u001b[1;33m\u001b[0m\u001b[0m\n",
      "\u001b[1;32m~\\AppData\\Local\\Temp/ipykernel_14816/2534129484.py\u001b[0m in \u001b[0;36mchat\u001b[1;34m(prompt)\u001b[0m\n\u001b[0;32m      4\u001b[0m     \u001b[0minp\u001b[0m\u001b[1;33m=\u001b[0m\u001b[1;34m\"\"\u001b[0m\u001b[1;33m\u001b[0m\u001b[1;33m\u001b[0m\u001b[0m\n\u001b[0;32m      5\u001b[0m \u001b[1;33m\u001b[0m\u001b[0m\n\u001b[1;32m----> 6\u001b[1;33m     \u001b[0minp\u001b[0m \u001b[1;33m=\u001b[0m \u001b[0msay\u001b[0m\u001b[1;33m(\u001b[0m\u001b[0minp\u001b[0m\u001b[1;33m)\u001b[0m\u001b[1;33m\u001b[0m\u001b[1;33m\u001b[0m\u001b[0m\n\u001b[0m\u001b[0;32m      7\u001b[0m \u001b[1;33m\u001b[0m\u001b[0m\n\u001b[0;32m      8\u001b[0m     \u001b[1;32mreturn\u001b[0m \u001b[0minp\u001b[0m\u001b[1;33m\u001b[0m\u001b[1;33m\u001b[0m\u001b[0m\n",
      "\u001b[1;32m~\\AppData\\Local\\Temp/ipykernel_14816/2074503704.py\u001b[0m in \u001b[0;36msay\u001b[1;34m(inp)\u001b[0m\n\u001b[0;32m      4\u001b[0m         \u001b[0mprint\u001b[0m\u001b[1;33m(\u001b[0m\u001b[1;34m\"Listening...\"\u001b[0m\u001b[1;33m)\u001b[0m\u001b[1;33m\u001b[0m\u001b[1;33m\u001b[0m\u001b[0m\n\u001b[0;32m      5\u001b[0m         \u001b[0mr\u001b[0m\u001b[1;33m.\u001b[0m\u001b[0mpause_threshold\u001b[0m \u001b[1;33m=\u001b[0m \u001b[1;36m0.5\u001b[0m\u001b[1;33m\u001b[0m\u001b[1;33m\u001b[0m\u001b[0m\n\u001b[1;32m----> 6\u001b[1;33m         \u001b[0maudio\u001b[0m \u001b[1;33m=\u001b[0m \u001b[0mr\u001b[0m\u001b[1;33m.\u001b[0m\u001b[0mlisten\u001b[0m\u001b[1;33m(\u001b[0m\u001b[0msource\u001b[0m\u001b[1;33m)\u001b[0m\u001b[1;33m\u001b[0m\u001b[1;33m\u001b[0m\u001b[0m\n\u001b[0m\u001b[0;32m      7\u001b[0m \u001b[1;33m\u001b[0m\u001b[0m\n\u001b[0;32m      8\u001b[0m     \u001b[1;32mtry\u001b[0m\u001b[1;33m:\u001b[0m\u001b[1;33m\u001b[0m\u001b[1;33m\u001b[0m\u001b[0m\n",
      "\u001b[1;32m~\\AppData\\Local\\Programs\\Python\\Python39\\lib\\site-packages\\speech_recognition\\__init__.py\u001b[0m in \u001b[0;36mlisten\u001b[1;34m(self, source, timeout, phrase_time_limit, snowboy_configuration)\u001b[0m\n\u001b[0;32m    707\u001b[0m                     \u001b[1;32mbreak\u001b[0m\u001b[1;33m\u001b[0m\u001b[1;33m\u001b[0m\u001b[0m\n\u001b[0;32m    708\u001b[0m \u001b[1;33m\u001b[0m\u001b[0m\n\u001b[1;32m--> 709\u001b[1;33m                 \u001b[0mbuffer\u001b[0m \u001b[1;33m=\u001b[0m \u001b[0msource\u001b[0m\u001b[1;33m.\u001b[0m\u001b[0mstream\u001b[0m\u001b[1;33m.\u001b[0m\u001b[0mread\u001b[0m\u001b[1;33m(\u001b[0m\u001b[0msource\u001b[0m\u001b[1;33m.\u001b[0m\u001b[0mCHUNK\u001b[0m\u001b[1;33m)\u001b[0m\u001b[1;33m\u001b[0m\u001b[1;33m\u001b[0m\u001b[0m\n\u001b[0m\u001b[0;32m    710\u001b[0m                 \u001b[1;32mif\u001b[0m \u001b[0mlen\u001b[0m\u001b[1;33m(\u001b[0m\u001b[0mbuffer\u001b[0m\u001b[1;33m)\u001b[0m \u001b[1;33m==\u001b[0m \u001b[1;36m0\u001b[0m\u001b[1;33m:\u001b[0m \u001b[1;32mbreak\u001b[0m  \u001b[1;31m# reached end of the stream\u001b[0m\u001b[1;33m\u001b[0m\u001b[1;33m\u001b[0m\u001b[0m\n\u001b[0;32m    711\u001b[0m                 \u001b[0mframes\u001b[0m\u001b[1;33m.\u001b[0m\u001b[0mappend\u001b[0m\u001b[1;33m(\u001b[0m\u001b[0mbuffer\u001b[0m\u001b[1;33m)\u001b[0m\u001b[1;33m\u001b[0m\u001b[1;33m\u001b[0m\u001b[0m\n",
      "\u001b[1;32m~\\AppData\\Local\\Programs\\Python\\Python39\\lib\\site-packages\\speech_recognition\\__init__.py\u001b[0m in \u001b[0;36mread\u001b[1;34m(self, size)\u001b[0m\n\u001b[0;32m    209\u001b[0m \u001b[1;33m\u001b[0m\u001b[0m\n\u001b[0;32m    210\u001b[0m         \u001b[1;32mdef\u001b[0m \u001b[0mread\u001b[0m\u001b[1;33m(\u001b[0m\u001b[0mself\u001b[0m\u001b[1;33m,\u001b[0m \u001b[0msize\u001b[0m\u001b[1;33m)\u001b[0m\u001b[1;33m:\u001b[0m\u001b[1;33m\u001b[0m\u001b[1;33m\u001b[0m\u001b[0m\n\u001b[1;32m--> 211\u001b[1;33m             \u001b[1;32mreturn\u001b[0m \u001b[0mself\u001b[0m\u001b[1;33m.\u001b[0m\u001b[0mpyaudio_stream\u001b[0m\u001b[1;33m.\u001b[0m\u001b[0mread\u001b[0m\u001b[1;33m(\u001b[0m\u001b[0msize\u001b[0m\u001b[1;33m,\u001b[0m \u001b[0mexception_on_overflow\u001b[0m\u001b[1;33m=\u001b[0m\u001b[1;32mFalse\u001b[0m\u001b[1;33m)\u001b[0m\u001b[1;33m\u001b[0m\u001b[1;33m\u001b[0m\u001b[0m\n\u001b[0m\u001b[0;32m    212\u001b[0m \u001b[1;33m\u001b[0m\u001b[0m\n\u001b[0;32m    213\u001b[0m         \u001b[1;32mdef\u001b[0m \u001b[0mclose\u001b[0m\u001b[1;33m(\u001b[0m\u001b[0mself\u001b[0m\u001b[1;33m)\u001b[0m\u001b[1;33m:\u001b[0m\u001b[1;33m\u001b[0m\u001b[1;33m\u001b[0m\u001b[0m\n",
      "\u001b[1;32m~\\AppData\\Local\\Programs\\Python\\Python39\\lib\\site-packages\\pyaudio\\__init__.py\u001b[0m in \u001b[0;36mread\u001b[1;34m(self, num_frames, exception_on_overflow)\u001b[0m\n\u001b[0;32m    568\u001b[0m                 raise IOError(\"Not input stream\",\n\u001b[0;32m    569\u001b[0m                               paCanNotReadFromAnOutputOnlyStream)\n\u001b[1;32m--> 570\u001b[1;33m             return pa.read_stream(self._stream, num_frames,\n\u001b[0m\u001b[0;32m    571\u001b[0m                                   exception_on_overflow)\n\u001b[0;32m    572\u001b[0m \u001b[1;33m\u001b[0m\u001b[0m\n",
      "\u001b[1;31mKeyboardInterrupt\u001b[0m: "
     ]
    }
   ],
   "source": [
    "check_emergency_contacts()\n",
    "check_location_safety()\n",
    "check_help()\n",
    "emergency_numbers()\n",
    "emergency_tips()"
   ]
  },
  {
   "cell_type": "code",
   "execution_count": null,
   "metadata": {},
   "outputs": [],
   "source": []
  }
 ],
 "metadata": {
  "colab": {
   "provenance": []
  },
  "kernelspec": {
   "display_name": "Python 3 (ipykernel)",
   "language": "python",
   "name": "python3"
  },
  "language_info": {
   "codemirror_mode": {
    "name": "ipython",
    "version": 3
   },
   "file_extension": ".py",
   "mimetype": "text/x-python",
   "name": "python",
   "nbconvert_exporter": "python",
   "pygments_lexer": "ipython3",
   "version": "3.9.7"
  }
 },
 "nbformat": 4,
 "nbformat_minor": 1
}
